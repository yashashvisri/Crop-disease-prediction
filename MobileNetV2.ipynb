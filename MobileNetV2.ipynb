{
  "cells": [
    {
      "cell_type": "code",
      "execution_count": null,
      "metadata": {
        "id": "HpkV3JDBL8Bc"
      },
      "outputs": [],
      "source": [
        "import zipfile\n",
        "zip_ref = zipfile.ZipFile('/content/drive/MyDrive/Colab Notebooks/train.zip', 'r')\n",
        "zip_ref.extractall('/content')\n",
        "zip_ref.close()\n",
        "\n",
        "zip_ref = zipfile.ZipFile('/content/drive/MyDrive/Colab Notebooks/valid.zip', 'r')\n",
        "zip_ref.extractall('/content')\n",
        "zip_ref.close()\n",
        "\n",
        "zip_ref = zipfile.ZipFile('/content/drive/MyDrive/Colab Notebooks/test.zip', 'r')\n",
        "zip_ref.extractall('/content')\n",
        "zip_ref.close()"
      ]
    },
    {
      "cell_type": "code",
      "execution_count": null,
      "metadata": {
        "id": "YhE3c1Z0MOUd"
      },
      "outputs": [],
      "source": [
        "# Import OS module\n",
        "import os\n",
        "\n",
        "# Imports\n",
        "import numpy as np\n",
        "import pandas as pd\n",
        "\n",
        "# Visualization\n",
        "import matplotlib.pyplot as plt\n",
        "\n",
        "# Tensorflow\n",
        "import tensorflow as tf\n",
        "from tensorflow import keras\n",
        "from tensorflow.keras import callbacks, layers, Model\n",
        "from tensorflow.keras.preprocessing.image import ImageDataGenerator\n",
        "from tensorflow.keras.utils import load_img,img_to_array\n",
        "from keras.applications import imagenet_utils\n",
        "from tensorflow.keras.applications.resnet50 import ResNet50\n",
        "from tensorflow.keras.applications.resnet50 import preprocess_input\n",
        "from tensorflow.keras.models import Sequential\n",
        "from keras.applications.vgg19 import VGG19 , preprocess_input , decode_predictions\n",
        "from tensorflow.keras.applications.inception_v3 import InceptionV3\n",
        "\n",
        "# Notebook magic\n",
        "%matplotlib inline"
      ]
    },
    {
      "cell_type": "code",
      "execution_count": null,
      "metadata": {
        "id": "cYMyM2w7MOeT"
      },
      "outputs": [],
      "source": [
        "# Configure variables for Transfer learning\n",
        "image_size = 224\n",
        "target_size = (image_size, image_size)\n",
        "input_shape = (image_size, image_size, 3)\n",
        "grid_shape = (1, image_size, image_size, 3)\n",
        "\n",
        "batch_size = 32"
      ]
    },
    {
      "cell_type": "code",
      "execution_count": null,
      "metadata": {
        "id": "Xzkv93R9MiIi"
      },
      "outputs": [],
      "source": [
        "train_dir = \"/content/train\"\n",
        "test_dir = \"/content/test\"\n",
        "valid_dir = \"/content/valid\""
      ]
    },
    {
      "cell_type": "code",
      "source": [
        "train_datagen = tf.keras.preprocessing.image.ImageDataGenerator(\n",
        "    horizontal_flip=True,\n",
        "    rotation_range=20,\n",
        "    width_shift_range=0.2,\n",
        "    height_shift_range=0.2,\n",
        "    shear_range=0.2,\n",
        "    zoom_range=0.2,\n",
        "    fill_mode='nearest'\n",
        ")\n",
        "\n",
        "test_datagen = tf.keras.preprocessing.image.ImageDataGenerator()\n",
        "\n",
        "train_data = train_datagen.flow_from_directory(\n",
        "    train_dir,\n",
        "    target_size=target_size,\n",
        "    batch_size=batch_size,\n",
        "    class_mode='categorical'\n",
        ")\n",
        "valid_datagen = tf.keras.preprocessing.image.ImageDataGenerator()\n",
        "valid_data= valid_datagen.flow_from_directory(\n",
        "    valid_dir,\n",
        "    target_size=target_size,\n",
        "    batch_size=batch_size,\n",
        "    class_mode='categorical',\n",
        "    shuffle=False  # Disable shuffling for test data\n",
        ")\n",
        "test_data= test_datagen.flow_from_directory(\n",
        "    test_dir,\n",
        "    target_size=target_size,\n",
        "    batch_size=batch_size,\n",
        "    class_mode='categorical',\n",
        "    shuffle=False  # Disable shuffling for test data\n",
        ")"
      ],
      "metadata": {
        "id": "orFm6RGhgyI1",
        "colab": {
          "base_uri": "https://localhost:8080/"
        },
        "outputId": "c0ce9bc0-3507-4b4a-fd45-6576e699290f"
      },
      "execution_count": null,
      "outputs": [
        {
          "output_type": "stream",
          "name": "stdout",
          "text": [
            "Found 70295 images belonging to 38 classes.\n",
            "Found 17572 images belonging to 38 classes.\n",
            "Found 1812 images belonging to 38 classes.\n"
          ]
        }
      ]
    },
    {
      "cell_type": "markdown",
      "metadata": {
        "id": "R_NG4HNmW7sb"
      },
      "source": [
        "**MobileNet V2**"
      ]
    },
    {
      "cell_type": "code",
      "execution_count": null,
      "metadata": {
        "id": "0rEMo7vPOIzj"
      },
      "outputs": [],
      "source": [
        "# Load the base model\n",
        "mbnet_v2 = keras.applications.MobileNetV2(\n",
        "    weights=\"imagenet\",\n",
        "    include_top=False,\n",
        "    input_shape=input_shape\n",
        ")\n",
        "\n",
        "# Stop from being trainable\n",
        "mbnet_v2.trainable = False"
      ]
    },
    {
      "cell_type": "code",
      "source": [
        "model = Sequential()\n",
        "model.add(mbnet_v2)\n",
        "model.add(layers.GlobalAveragePooling2D())\n",
        "model.add(layers.Dense(len(train_data.class_indices), activation=\"softmax\"))"
      ],
      "metadata": {
        "id": "XnUTgHm95YRL"
      },
      "execution_count": null,
      "outputs": []
    },
    {
      "cell_type": "code",
      "execution_count": null,
      "metadata": {
        "id": "An-gH_1VOI-k"
      },
      "outputs": [],
      "source": [
        "model.compile(\n",
        "    optimizer='adam',\n",
        "    loss='categorical_crossentropy',\n",
        "    metrics=['accuracy']\n",
        ")"
      ]
    },
    {
      "cell_type": "code",
      "source": [
        "early_stopping = tf.keras.callbacks.EarlyStopping(\n",
        "    monitor='val_loss',  # Monitor validation loss for early stopping\n",
        "    patience=5,  # Number of epochs with no improvement after which training will stop\n",
        "    restore_best_weights=True  # Restore the model with the best validation loss\n",
        ")"
      ],
      "metadata": {
        "id": "jPmWAPCECNwM"
      },
      "execution_count": null,
      "outputs": []
    },
    {
      "cell_type": "code",
      "execution_count": null,
      "metadata": {
        "colab": {
          "base_uri": "https://localhost:8080/"
        },
        "id": "dNco_-W5OXVI",
        "outputId": "13ce90f7-f8d6-471f-fd4a-43bac73009cc"
      },
      "outputs": [
        {
          "output_type": "stream",
          "name": "stdout",
          "text": [
            "Epoch 1/30\n",
            "200/200 [==============================] - 119s 566ms/step - loss: 2.7730 - accuracy: 0.2523 - val_loss: 2.2803 - val_accuracy: 0.3807\n",
            "Epoch 2/30\n",
            "200/200 [==============================] - 112s 558ms/step - loss: 2.0388 - accuracy: 0.4441 - val_loss: 2.0469 - val_accuracy: 0.4355\n",
            "Epoch 3/30\n",
            "200/200 [==============================] - 114s 569ms/step - loss: 1.7641 - accuracy: 0.5042 - val_loss: 1.8832 - val_accuracy: 0.4678\n",
            "Epoch 4/30\n",
            "200/200 [==============================] - 114s 573ms/step - loss: 1.6503 - accuracy: 0.5280 - val_loss: 1.7195 - val_accuracy: 0.5023\n",
            "Epoch 5/30\n",
            "200/200 [==============================] - 111s 556ms/step - loss: 1.5525 - accuracy: 0.5455 - val_loss: 1.7304 - val_accuracy: 0.5027\n",
            "Epoch 6/30\n",
            "200/200 [==============================] - 120s 602ms/step - loss: 1.4910 - accuracy: 0.5695 - val_loss: 1.5808 - val_accuracy: 0.5321\n",
            "Epoch 7/30\n",
            "200/200 [==============================] - 112s 559ms/step - loss: 1.4309 - accuracy: 0.5831 - val_loss: 1.5655 - val_accuracy: 0.5398\n",
            "Epoch 8/30\n",
            "200/200 [==============================] - 115s 574ms/step - loss: 1.3833 - accuracy: 0.5930 - val_loss: 1.5154 - val_accuracy: 0.5545\n",
            "Epoch 9/30\n",
            "200/200 [==============================] - 113s 567ms/step - loss: 1.3508 - accuracy: 0.6072 - val_loss: 1.5215 - val_accuracy: 0.5490\n",
            "Epoch 10/30\n",
            "200/200 [==============================] - 113s 566ms/step - loss: 1.2825 - accuracy: 0.6203 - val_loss: 1.4677 - val_accuracy: 0.5715\n",
            "Epoch 11/30\n",
            "200/200 [==============================] - 110s 550ms/step - loss: 1.2788 - accuracy: 0.6278 - val_loss: 1.4396 - val_accuracy: 0.5752\n",
            "Epoch 12/30\n",
            "200/200 [==============================] - ETA: 0s - loss: 1.2477 - accuracy: 0.6331"
          ]
        }
      ],
      "source": [
        "num_epochs = 30\n",
        "history=model.fit(\n",
        "    train_data,\n",
        "    epochs=num_epochs,\n",
        "    steps_per_epoch = 200,\n",
        "    validation_data=valid_data,\n",
        "    callbacks=[early_stopping]\n",
        ")"
      ]
    },
    {
      "cell_type": "code",
      "execution_count": null,
      "metadata": {
        "id": "qbRioYYTohci"
      },
      "outputs": [],
      "source": [
        "test_loss, test_accuracy = model.evaluate(test_data)\n",
        "print(\"Test accuracy:\", test_accuracy)"
      ]
    },
    {
      "cell_type": "code",
      "execution_count": null,
      "metadata": {
        "id": "DORLx497Dqtu"
      },
      "outputs": [],
      "source": [
        "hist = history.history\n",
        "# Plot accuracy and loss\n",
        "plt.plot(hist[\"accuracy\"], label=\"accuracy\")\n",
        "plt.plot(hist[\"val_accuracy\"], label=\"val_accuracy\")\n",
        "\n",
        "# Add the labels and legend\n",
        "plt.ylabel(\"Accuracy / Loss\")\n",
        "plt.xlabel(\"Epochs #\")\n",
        "plt.legend()\n",
        "\n",
        "plt.show()"
      ]
    },
    {
      "cell_type": "code",
      "execution_count": null,
      "metadata": {
        "id": "e3yZ8yim6yHr"
      },
      "outputs": [],
      "source": [
        "if \"val_accuracy\" in hist and \"val_loss\" in hist:\n",
        "    plt.plot(hist[\"loss\"], label=\"loss\")\n",
        "    plt.plot(hist[\"val_loss\"], label=\"val_loss\")\n",
        "\n",
        "# Add the labels and legend\n",
        "plt.ylabel(\"Accuracy / Loss\")\n",
        "plt.xlabel(\"Epochs #\")\n",
        "plt.legend()\n",
        "\n",
        "plt.show()"
      ]
    },
    {
      "cell_type": "code",
      "execution_count": null,
      "metadata": {
        "id": "ZG4VCo6qpPqn"
      },
      "outputs": [],
      "source": [
        "model.save(\"/content/drive/MyDrive/MobileNet.h5\")"
      ]
    },
    {
      "cell_type": "code",
      "execution_count": null,
      "metadata": {
        "id": "pv990j8DpRrn"
      },
      "outputs": [],
      "source": [
        "import json\n",
        "\n",
        "from IPython.display import FileLink\n",
        "\n",
        "# Link the files\n",
        "FileLink(\"./content/drive/MyDrive/MobileNet.h5\")"
      ]
    },
    {
      "cell_type": "code",
      "execution_count": null,
      "metadata": {
        "id": "5_i8ZlV3pR3c"
      },
      "outputs": [],
      "source": [
        "# Dump the categories\n",
        "with open(\"categories.json\", \"w\") as file:\n",
        "  json.dump(train_data.class_indices, file)\n",
        "\n",
        "# Link categories JSON\n",
        "FileLink(\"categories.json\")"
      ]
    },
    {
      "cell_type": "code",
      "execution_count": null,
      "metadata": {
        "id": "KslivFTHsZ8O"
      },
      "outputs": [],
      "source": [
        "class_mapping = {\n",
        "    0: 'Apple Scab',\n",
        "    1: 'Apple Black Rot',\n",
        "    2: 'Apple Rust',\n",
        "    3: 'Apple Healthy',\n",
        "    4: 'Blueberry Healthy',\n",
        "    5: 'Cherry (including sour) Powdery mildew',\n",
        "    6: 'Cherry (including sour) healthy',\n",
        "    7: 'Corn (maize) Cercospora leaf spot Gray leaf spot',\n",
        "    8: 'Corn (maize) Common rust',\n",
        "    9: 'Corn (maize) Northern Leaf Blight',\n",
        "    10: 'Corn (maize) Healthy',\n",
        "    11: 'Grape Black Rot',\n",
        "    12: 'Grape Esca (Black Measles)',\n",
        "    13: 'Grape Leaf blight (Isariopsis Leaf Spot)',\n",
        "    14: 'Grape Healthy',\n",
        "    15: 'Orange Haunglongbing (Citrus greening)',\n",
        "    16: 'Peach Bacterial Spot',\n",
        "    17: 'Peach Healthy',\n",
        "    18: 'Pepper Bell Bacterial Spot',\n",
        "    19: 'Pepper Bell Healthy',\n",
        "    20: 'Potato Early Blight',\n",
        "    21: 'Potato Late Blight',\n",
        "    22: 'Potato Healthy',\n",
        "    23: 'Raspberry Healthy',\n",
        "    24: 'Soyabean Healthy',\n",
        "    25: 'Squash Powdery Mildew',\n",
        "    26: 'Strawberry Leaf Scorch',\n",
        "    27: 'Strawberry Healthy',\n",
        "    28: 'Tomato Bacterial Spot',\n",
        "    29: 'Tomato Early Blight',\n",
        "    30: 'Tomato Late Blight',\n",
        "    31: 'Tomato Leaf Mold',\n",
        "    32: 'Tomato Septoria leaf spot',\n",
        "    33: 'Tomato Spider mites Two-spotted spider mite',\n",
        "    34: 'Tomato Target Spot',\n",
        "    35: 'Tomato Tomato Yellow Leaf Curl Virus',\n",
        "    36: 'Tomato Tomato mosaic virus',\n",
        "    37: 'Tomato Healthy',\n",
        "    38: 'None',\n",
        "    }"
      ]
    },
    {
      "cell_type": "code",
      "execution_count": null,
      "metadata": {
        "id": "yiPqYUlTr7VM"
      },
      "outputs": [],
      "source": [
        "from tensorflow.keras.applications.mobilenet_v2 import preprocess_input, decode_predictions\n",
        "from tensorflow.keras.preprocessing import image\n",
        "\n",
        "image_path = '/content/test/test_data/AppleCedarRust4.JPG'\n",
        "img = image.load_img(image_path, target_size=(224, 224))  # Adjust target_size as needed\n",
        "img_array = image.img_to_array(img)\n",
        "img_array = np.expand_dims(img_array, axis=0)\n",
        "img_array = preprocess_input(img_array)\n"
      ]
    },
    {
      "cell_type": "code",
      "execution_count": null,
      "metadata": {
        "id": "ySlMFThSsVZ-"
      },
      "outputs": [],
      "source": [
        "predictions = model.predict(img_array)"
      ]
    },
    {
      "cell_type": "code",
      "execution_count": null,
      "metadata": {
        "id": "Q7v4tw8yxr48"
      },
      "outputs": [],
      "source": [
        "predicted_class_index = np.argmax(predictions)\n",
        "print(predicted_class_index)\n",
        "predicted_disease_class = class_mapping.get(predicted_class_index, 'Unknown')\n",
        "print(\"Predicted Disease Class:\", predicted_disease_class)"
      ]
    },
    {
      "cell_type": "code",
      "execution_count": null,
      "metadata": {
        "id": "exSxjnzU46EF"
      },
      "outputs": [],
      "source": [
        "from sklearn.metrics import accuracy_score\n",
        "from sklearn.metrics import precision_score\n",
        "from sklearn.metrics import recall_score\n",
        "from sklearn.metrics import f1_score\n",
        "from sklearn.metrics import cohen_kappa_score\n",
        "from sklearn.metrics import roc_auc_score\n",
        "from sklearn.metrics import confusion_matrix\n",
        "from sklearn.metrics import classification_report"
      ]
    },
    {
      "cell_type": "code",
      "execution_count": null,
      "metadata": {
        "id": "ViodkiYgzFLA"
      },
      "outputs": [],
      "source": [
        "y_pred = model.predict(valid_data, steps=len(valid_data), verbose=1)"
      ]
    },
    {
      "cell_type": "code",
      "execution_count": null,
      "metadata": {
        "id": "OplwovbaveS_"
      },
      "outputs": [],
      "source": [
        "class_indices = valid_data.class_indices"
      ]
    },
    {
      "cell_type": "code",
      "execution_count": null,
      "metadata": {
        "id": "sEM11wU7vgnd"
      },
      "outputs": [],
      "source": [
        "y_true = [class_indices[filename.split('/')[0]] for filename in valid_data.filenames]"
      ]
    },
    {
      "cell_type": "code",
      "execution_count": null,
      "metadata": {
        "id": "2iQ_CqnQLdLH"
      },
      "outputs": [],
      "source": [
        "class_accuracies = []\n",
        "\n",
        "for class_label in range(38):\n",
        "    class_indices = [i for i, label in enumerate(y_true) if label == class_label]\n",
        "\n",
        "    # Check if there are samples for this class\n",
        "    if not class_indices:\n",
        "        accuracy = 0.0  # No samples for this class, accuracy is 0\n",
        "    else:\n",
        "        class_y_true = [y_true[i] for i in class_indices]\n",
        "        class_y_pred = [y_pred[i] for i in class_indices]\n",
        "        accuracy = accuracy_score(class_y_true, np.argmax(class_y_pred, axis=1))\n",
        "\n",
        "    class_accuracies.append(accuracy)\n",
        "\n",
        "# Print class-specific accuracies\n",
        "for i, accuracy in enumerate(class_accuracies):\n",
        "    print(f'Class {i}: Accuracy = {accuracy:.2f}')\n"
      ]
    }
  ],
  "metadata": {
    "accelerator": "GPU",
    "colab": {
      "provenance": [],
      "gpuType": "T4"
    },
    "kernelspec": {
      "display_name": "Python 3",
      "name": "python3"
    },
    "language_info": {
      "name": "python"
    }
  },
  "nbformat": 4,
  "nbformat_minor": 0
}